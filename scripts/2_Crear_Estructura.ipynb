{
 "cells": [
  {
   "cell_type": "code",
   "execution_count": 1,
   "id": "6706a305",
   "metadata": {},
   "outputs": [
    {
     "name": "stdout",
     "output_type": "stream",
     "text": [
      "✅ Archivo 'base.csv' creado correctamente en: c:\\Users\\VALDIVIA\\Desktop\\UNC 2025-II\\TOPICOS EN INTELIGENCIA DE NEGOCIOS\\MINCETUR\\data\\base.csv\n"
     ]
    }
   ],
   "source": [
    "from pathlib import Path\n",
    "\n",
    "# Definir ruta de carpeta data\n",
    "data_path = Path.cwd().parent / \"data\"\n",
    "data_path.mkdir(parents=True, exist_ok=True)\n",
    "\n",
    "# Ruta completa del archivo base\n",
    "archivo_base = data_path / \"base.csv\"\n",
    "\n",
    "# Contenido del encabezado del CSV\n",
    "encabezado = \"id_visitante,pais_origen,edad,genero,destino,region,fecha_visita,dias_estadia,gasto_total,medio_transporte\\n\"\n",
    "\n",
    "# Crear archivo base.csv si no existe\n",
    "if not archivo_base.exists():\n",
    "    with open(archivo_base, \"w\", encoding=\"utf-8\") as f:\n",
    "        f.write(encabezado)\n",
    "    print(f\"✅ Archivo '{archivo_base.name}' creado correctamente en: {archivo_base}\")\n",
    "else:\n",
    "    print(f\"⚠️ El archivo '{archivo_base.name}' ya existe en: {archivo_base}\")\n",
    "\n"
   ]
  }
 ],
 "metadata": {
  "kernelspec": {
   "display_name": "Python 3",
   "language": "python",
   "name": "python3"
  },
  "language_info": {
   "codemirror_mode": {
    "name": "ipython",
    "version": 3
   },
   "file_extension": ".py",
   "mimetype": "text/x-python",
   "name": "python",
   "nbconvert_exporter": "python",
   "pygments_lexer": "ipython3",
   "version": "3.13.6"
  }
 },
 "nbformat": 4,
 "nbformat_minor": 5
}
