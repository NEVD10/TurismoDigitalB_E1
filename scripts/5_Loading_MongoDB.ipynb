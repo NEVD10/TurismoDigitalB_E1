{
 "cells": [
  {
   "cell_type": "code",
   "execution_count": 2,
   "id": "d060c0a6",
   "metadata": {},
   "outputs": [
    {
     "name": "stdout",
     "output_type": "stream",
     "text": [
      "📊 Registros listos para MongoDB: 3000\n",
      "🧽 Colección anterior eliminada (si existía).\n",
      "✅ 3000 documentos insertados correctamente en la colección 'Visitantes'.\n"
     ]
    }
   ],
   "source": [
    "import pandas as pd\n",
    "from pymongo import MongoClient\n",
    "from pathlib import Path\n",
    "\n",
    "# 📂 Ruta del archivo limpio\n",
    "database_path = Path.cwd().parent / \"database\" / \"visitantes_clean.csv\"\n",
    "\n",
    "# 📘 Leer CSV limpio\n",
    "df = pd.read_csv(database_path)\n",
    "print(f\"📊 Registros listos para MongoDB: {len(df)}\")\n",
    "\n",
    "# 🍃 Conexión a MongoDB (local)\n",
    "client = MongoClient(\"mongodb://localhost:27017/\")\n",
    "\n",
    "# Crear base de datos y colección\n",
    "db = client[\"TurismoPeru_2025\"]\n",
    "coleccion = db[\"Visitantes\"]\n",
    "\n",
    "# 🧹 Limpiar colección previa (opcional)\n",
    "coleccion.delete_many({})\n",
    "print(\"🧽 Colección anterior eliminada (si existía).\")\n",
    "\n",
    "# 📥 Insertar registros\n",
    "data = df.to_dict(\"records\")\n",
    "coleccion.insert_many(data)\n",
    "\n",
    "print(f\"✅ {len(data)} documentos insertados correctamente en la colección 'Visitantes'.\")\n"
   ]
  }
 ],
 "metadata": {
  "kernelspec": {
   "display_name": "myenv (3.13.6)",
   "language": "python",
   "name": "python3"
  },
  "language_info": {
   "codemirror_mode": {
    "name": "ipython",
    "version": 3
   },
   "file_extension": ".py",
   "mimetype": "text/x-python",
   "name": "python",
   "nbconvert_exporter": "python",
   "pygments_lexer": "ipython3",
   "version": "3.13.6"
  }
 },
 "nbformat": 4,
 "nbformat_minor": 5
}
