{
 "cells": [
  {
   "cell_type": "code",
   "execution_count": 1,
   "id": "e3b208d0",
   "metadata": {},
   "outputs": [
    {
     "name": "stdout",
     "output_type": "stream",
     "text": [
      "✅ Archivo 'visitantes.csv' generado con 3000 registros.\n"
     ]
    }
   ],
   "source": [
    "from pathlib import Path\n",
    "import csv\n",
    "import random\n",
    "from datetime import datetime, timedelta\n",
    "\n",
    "# 📂 Ruta del archivo visitantes.csv\n",
    "data_path = Path.cwd().parent / \"data\"\n",
    "data_path.mkdir(parents=True, exist_ok=True)\n",
    "archivo_csv = data_path / \"visitantes.csv\"\n",
    "\n",
    "# 🌍 Listas base para generación de datos\n",
    "paises = [\"Perú\", \"Chile\", \"EE.UU.\", \"Brasil\", \"Argentina\", \"Colombia\", \"España\", \"Alemania\", \"México\", \"Francia\"]\n",
    "generos = [\"M\", \"F\"]\n",
    "destinos_regiones = [\n",
    "    (\"Machu Picchu\", \"Cusco\"),\n",
    "    (\"Lago Titicaca\", \"Puno\"),\n",
    "    (\"Líneas de Nazca\", \"Ica\"),\n",
    "    (\"Cataratas de Gocta\", \"Amazonas\"),\n",
    "    (\"Islas Ballestas\", \"Ica\"),\n",
    "    (\"Huacachina\", \"Ica\"),\n",
    "    (\"Colca\", \"Arequipa\"),\n",
    "    (\"Chan Chan\", \"La Libertad\"),\n",
    "    (\"Kuelap\", \"Amazonas\"),\n",
    "    (\"Santa Apolonia\", \"Cajamarca\")\n",
    "]\n",
    "transportes = [\"Avión\", \"Bus\", \"Auto particular\", \"NA\", None]\n",
    "\n",
    "# 🎲 Función para generar fecha aleatoria\n",
    "def generar_fecha():\n",
    "    inicio = datetime(2025, 1, 1)\n",
    "    fin = datetime(2025, 12, 31)\n",
    "    delta = fin - inicio\n",
    "    fecha_random = inicio + timedelta(days=random.randint(0, delta.days))\n",
    "    return fecha_random.strftime(\"%Y-%m-%d\")\n",
    "\n",
    "# 🏗️ Generar registros\n",
    "total_registros = 3000\n",
    "registros = []\n",
    "\n",
    "for i in range(1, total_registros + 1):\n",
    "    id_visitante = f\"V{str(i).zfill(4)}\"\n",
    "    pais = random.choice(paises)\n",
    "    edad = random.randint(18, 80)\n",
    "    genero = random.choice(generos)\n",
    "    destino, region = random.choice(destinos_regiones)\n",
    "    fecha = generar_fecha()\n",
    "    dias = random.randint(1, 15)\n",
    "    gasto = round(random.uniform(200, 5000), 2)\n",
    "    transporte = random.choice(transportes)\n",
    "    registros.append([id_visitante, pais, edad, genero, destino, region, fecha, dias, gasto, transporte])\n",
    "\n",
    "# 💾 Guardar en CSV\n",
    "with open(archivo_csv, mode=\"w\", newline=\"\", encoding=\"utf-8\") as file:\n",
    "    writer = csv.writer(file)\n",
    "    writer.writerow([\"id_visitante\", \"pais_origen\", \"edad\", \"genero\", \"destino\", \"region\", \"fecha_visita\", \"dias_estadia\", \"gasto_total\", \"medio_transporte\"])\n",
    "    writer.writerows(registros)\n",
    "\n",
    "print(f\"✅ Archivo '{archivo_csv.name}' generado con {len(registros)} registros.\")\n"
   ]
  }
 ],
 "metadata": {
  "kernelspec": {
   "display_name": "Python 3",
   "language": "python",
   "name": "python3"
  },
  "language_info": {
   "codemirror_mode": {
    "name": "ipython",
    "version": 3
   },
   "file_extension": ".py",
   "mimetype": "text/x-python",
   "name": "python",
   "nbconvert_exporter": "python",
   "pygments_lexer": "ipython3",
   "version": "3.13.6"
  }
 },
 "nbformat": 4,
 "nbformat_minor": 5
}
