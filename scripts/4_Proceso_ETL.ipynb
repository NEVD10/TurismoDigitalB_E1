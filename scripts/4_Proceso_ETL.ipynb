{
 "cells": [
  {
   "cell_type": "code",
   "execution_count": 2,
   "id": "2bddd940",
   "metadata": {},
   "outputs": [
    {
     "name": "stdout",
     "output_type": "stream",
     "text": [
      "📊 Registros originales: 3000\n",
      "\n",
      "Vista previa:\n",
      "  id_visitante pais_origen  edad genero          destino    region  \\\n",
      "0        V0001      EE.UU.    20      F       Huacachina       Ica   \n",
      "1        V0002   Argentina    62      M    Lago Titicaca      Puno   \n",
      "2        V0003    Alemania    79      F     Machu Picchu     Cusco   \n",
      "3        V0004    Colombia    62      M  Líneas de Nazca       Ica   \n",
      "4        V0005     Francia    22      M            Colca  Arequipa   \n",
      "\n",
      "  fecha_visita  dias_estadia  gasto_total medio_transporte  \n",
      "0   2025-09-22            14       278.94            Avión  \n",
      "1   2025-02-13            15      4136.12              Bus  \n",
      "2   2025-09-07             6      1034.03  Auto particular  \n",
      "3   2025-03-27             4      1456.56            Avión  \n",
      "4   2025-04-01             3      3145.38              Bus  \n",
      "\n",
      "✅ Después de eliminar duplicados: 3000\n"
     ]
    },
    {
     "name": "stderr",
     "output_type": "stream",
     "text": [
      "C:\\Users\\VALDIVIA\\AppData\\Local\\Temp\\ipykernel_19288\\2308937928.py:25: FutureWarning: A value is trying to be set on a copy of a DataFrame or Series through chained assignment using an inplace method.\n",
      "The behavior will change in pandas 3.0. This inplace method will never work because the intermediate object on which we are setting values always behaves as a copy.\n",
      "\n",
      "For example, when doing 'df[col].method(value, inplace=True)', try using 'df.method({col: value}, inplace=True)' or df[col] = df[col].method(value) instead, to perform the operation inplace on the original object.\n",
      "\n",
      "\n",
      "  df[\"medio_transporte\"].replace(\"NA\", \"Desconocido\", inplace=True)\n",
      "C:\\Users\\VALDIVIA\\AppData\\Local\\Temp\\ipykernel_19288\\2308937928.py:28: FutureWarning: A value is trying to be set on a copy of a DataFrame or Series through chained assignment using an inplace method.\n",
      "The behavior will change in pandas 3.0. This inplace method will never work because the intermediate object on which we are setting values always behaves as a copy.\n",
      "\n",
      "For example, when doing 'df[col].method(value, inplace=True)', try using 'df.method({col: value}, inplace=True)' or df[col] = df[col].method(value) instead, to perform the operation inplace on the original object.\n",
      "\n",
      "\n",
      "  df[\"destino\"].replace(\"NA\", \"Destino no especificado\", inplace=True)\n"
     ]
    },
    {
     "name": "stdout",
     "output_type": "stream",
     "text": [
      "\n",
      "✅ Registros limpios: 3000\n",
      "  id_visitante pais_origen  edad genero          destino    region  \\\n",
      "0        V0001      EE.UU.    20      F       Huacachina       Ica   \n",
      "1        V0002   Argentina    62      M    Lago Titicaca      Puno   \n",
      "2        V0003    Alemania    79      F     Machu Picchu     Cusco   \n",
      "3        V0004    Colombia    62      M  Líneas de Nazca       Ica   \n",
      "4        V0005     Francia    22      M            Colca  Arequipa   \n",
      "\n",
      "  fecha_visita  dias_estadia  gasto_total medio_transporte  \n",
      "0   2025-09-22            14       278.94            Avión  \n",
      "1   2025-02-13            15      4136.12              Bus  \n",
      "2   2025-09-07             6      1034.03  Auto particular  \n",
      "3   2025-03-27             4      1456.56            Avión  \n",
      "4   2025-04-01             3      3145.38              Bus  \n",
      "\n",
      "📁 Archivo limpio guardado en: c:\\Users\\VALDIVIA\\Desktop\\UNC 2025-II\\TOPICOS EN INTELIGENCIA DE NEGOCIOS\\MINCETUR\\database\\visitantes_clean.csv\n"
     ]
    }
   ],
   "source": [
    "import pandas as pd\n",
    "from pathlib import Path\n",
    "\n",
    "# 📂 Rutas\n",
    "data_path = Path.cwd().parent / \"data\"\n",
    "database_path = Path.cwd().parent / \"database\"\n",
    "database_path.mkdir(parents=True, exist_ok=True)\n",
    "\n",
    "input_file = data_path / \"visitantes.csv\"\n",
    "output_file = database_path / \"visitantes_clean.csv\"\n",
    "\n",
    "# 🧾 Leer CSV original\n",
    "df = pd.read_csv(input_file)\n",
    "\n",
    "print(\"📊 Registros originales:\", len(df))\n",
    "print(\"\\nVista previa:\")\n",
    "print(df.head())\n",
    "\n",
    "# 🧼 1. Eliminar duplicados\n",
    "df.drop_duplicates(inplace=True)\n",
    "print(\"\\n✅ Después de eliminar duplicados:\", len(df))\n",
    "\n",
    "# 🧽 2. Rellenar valores nulos o 'NA' en medio_transporte y destino\n",
    "df[\"medio_transporte\"] = df[\"medio_transporte\"].fillna(\"Desconocido\")\n",
    "df[\"medio_transporte\"].replace(\"NA\", \"Desconocido\", inplace=True)\n",
    "\n",
    "df[\"destino\"] = df[\"destino\"].fillna(\"Destino no especificado\")\n",
    "df[\"destino\"].replace(\"NA\", \"Destino no especificado\", inplace=True)\n",
    "\n",
    "# 🗓️ 3. Asegurar formato de fecha\n",
    "df[\"fecha_visita\"] = pd.to_datetime(df[\"fecha_visita\"], errors=\"coerce\").dt.strftime(\"%Y-%m-%d\")\n",
    "\n",
    "# 🧮 4. Validar tipos de datos numéricos\n",
    "df[\"edad\"] = pd.to_numeric(df[\"edad\"], errors=\"coerce\")\n",
    "df[\"dias_estadia\"] = pd.to_numeric(df[\"dias_estadia\"], errors=\"coerce\")\n",
    "df[\"gasto_total\"] = pd.to_numeric(df[\"gasto_total\"], errors=\"coerce\")\n",
    "\n",
    "# 🧹 5. Eliminar filas con valores esenciales nulos\n",
    "df.dropna(subset=[\"id_visitante\", \"pais_origen\", \"fecha_visita\"], inplace=True)\n",
    "\n",
    "# 📝 6. Mostrar resumen final\n",
    "print(\"\\n✅ Registros limpios:\", len(df))\n",
    "print(df.head())\n",
    "\n",
    "# 💾 7. Guardar archivo limpio\n",
    "df.to_csv(output_file, index=False, encoding=\"utf-8\")\n",
    "print(f\"\\n📁 Archivo limpio guardado en: {output_file}\")\n"
   ]
  }
 ],
 "metadata": {
  "kernelspec": {
   "display_name": "myenv (3.13.6)",
   "language": "python",
   "name": "python3"
  },
  "language_info": {
   "codemirror_mode": {
    "name": "ipython",
    "version": 3
   },
   "file_extension": ".py",
   "mimetype": "text/x-python",
   "name": "python",
   "nbconvert_exporter": "python",
   "pygments_lexer": "ipython3",
   "version": "3.13.6"
  }
 },
 "nbformat": 4,
 "nbformat_minor": 5
}
