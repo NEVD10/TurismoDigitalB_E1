{
 "cells": [
  {
   "cell_type": "code",
   "execution_count": 1,
   "id": "cc86abbc",
   "metadata": {},
   "outputs": [
    {
     "name": "stdout",
     "output_type": "stream",
     "text": [
      "✅ Carpeta 'data' lista en c:\\Users\\VALDIVIA\\Desktop\\UNC 2025-II\\TOPICOS EN INTELIGENCIA DE NEGOCIOS\\MINCETUR\\scripts\\..\\data\n",
      "✅ Carpeta 'database' lista en c:\\Users\\VALDIVIA\\Desktop\\UNC 2025-II\\TOPICOS EN INTELIGENCIA DE NEGOCIOS\\MINCETUR\\scripts\\..\\database\n",
      "✅ Carpeta 'scripts' lista en c:\\Users\\VALDIVIA\\Desktop\\UNC 2025-II\\TOPICOS EN INTELIGENCIA DE NEGOCIOS\\MINCETUR\\scripts\\..\\scripts\n",
      "✅ Carpeta 'reports' lista en c:\\Users\\VALDIVIA\\Desktop\\UNC 2025-II\\TOPICOS EN INTELIGENCIA DE NEGOCIOS\\MINCETUR\\scripts\\..\\reports\n",
      "✅ Carpeta 'ci' lista en c:\\Users\\VALDIVIA\\Desktop\\UNC 2025-II\\TOPICOS EN INTELIGENCIA DE NEGOCIOS\\MINCETUR\\scripts\\..\\ci\n",
      "✅ Carpeta 'git' lista en c:\\Users\\VALDIVIA\\Desktop\\UNC 2025-II\\TOPICOS EN INTELIGENCIA DE NEGOCIOS\\MINCETUR\\scripts\\..\\git\n"
     ]
    }
   ],
   "source": [
    "from pathlib import Path\n",
    "\n",
    "# Rutas de carpetas del proyecto\n",
    "carpetas = [\"data\", \"database\", \"scripts\", \"reports\", \"ci\",\"git\"]\n",
    "\n",
    "for carpeta in carpetas:\n",
    "    ruta = Path.cwd() / f\"../{carpeta}\"\n",
    "    ruta.mkdir(parents=True, exist_ok=True)\n",
    "    print(f\"✅ Carpeta '{carpeta}' lista en {ruta}\")\n"
   ]
  }
 ],
 "metadata": {
  "kernelspec": {
   "display_name": "Python 3",
   "language": "python",
   "name": "python3"
  },
  "language_info": {
   "codemirror_mode": {
    "name": "ipython",
    "version": 3
   },
   "file_extension": ".py",
   "mimetype": "text/x-python",
   "name": "python",
   "nbconvert_exporter": "python",
   "pygments_lexer": "ipython3",
   "version": "3.13.6"
  }
 },
 "nbformat": 4,
 "nbformat_minor": 5
}
